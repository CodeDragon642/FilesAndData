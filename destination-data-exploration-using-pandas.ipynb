{
 "cells": [
  {
   "cell_type": "markdown",
   "id": "5907ddbb",
   "metadata": {
    "papermill": {
     "duration": 0.009418,
     "end_time": "2023-03-15T11:42:57.620262",
     "exception": false,
     "start_time": "2023-03-15T11:42:57.610844",
     "status": "completed"
    },
    "tags": []
   },
   "source": [
    "**This exercise will explore the use of pandas for a simple data anlysis.**"
   ]
  },
  {
   "cell_type": "code",
   "execution_count": 1,
   "id": "45d347e1",
   "metadata": {
    "execution": {
     "iopub.execute_input": "2023-03-15T11:42:57.639471Z",
     "iopub.status.busy": "2023-03-15T11:42:57.638499Z",
     "iopub.status.idle": "2023-03-15T11:42:57.651220Z",
     "shell.execute_reply": "2023-03-15T11:42:57.649792Z"
    },
    "papermill": {
     "duration": 0.026072,
     "end_time": "2023-03-15T11:42:57.654516",
     "exception": false,
     "start_time": "2023-03-15T11:42:57.628444",
     "status": "completed"
    },
    "tags": []
   },
   "outputs": [
    {
     "name": "stdout",
     "output_type": "stream",
     "text": [
      "exploring data using pandas\n"
     ]
    }
   ],
   "source": [
    "print(\"exploring data using pandas\")"
   ]
  },
  {
   "cell_type": "markdown",
   "id": "97df1f9f",
   "metadata": {
    "papermill": {
     "duration": 0.008685,
     "end_time": "2023-03-15T11:42:57.672153",
     "exception": false,
     "start_time": "2023-03-15T11:42:57.663468",
     "status": "completed"
    },
    "tags": []
   },
   "source": [
    "The dataset is not accurate as it is created specifically for this exercise. "
   ]
  },
  {
   "cell_type": "code",
   "execution_count": 2,
   "id": "df2643ad",
   "metadata": {
    "execution": {
     "iopub.execute_input": "2023-03-15T11:42:57.694278Z",
     "iopub.status.busy": "2023-03-15T11:42:57.693290Z",
     "iopub.status.idle": "2023-03-15T11:42:57.741739Z",
     "shell.execute_reply": "2023-03-15T11:42:57.740223Z"
    },
    "papermill": {
     "duration": 0.063057,
     "end_time": "2023-03-15T11:42:57.744883",
     "exception": false,
     "start_time": "2023-03-15T11:42:57.681826",
     "status": "completed"
    },
    "tags": []
   },
   "outputs": [
    {
     "data": {
      "text/html": [
       "<div>\n",
       "<style scoped>\n",
       "    .dataframe tbody tr th:only-of-type {\n",
       "        vertical-align: middle;\n",
       "    }\n",
       "\n",
       "    .dataframe tbody tr th {\n",
       "        vertical-align: top;\n",
       "    }\n",
       "\n",
       "    .dataframe thead th {\n",
       "        text-align: right;\n",
       "    }\n",
       "</style>\n",
       "<table border=\"1\" class=\"dataframe\">\n",
       "  <thead>\n",
       "    <tr style=\"text-align: right;\">\n",
       "      <th></th>\n",
       "      <th>id</th>\n",
       "      <th>Destination</th>\n",
       "      <th>Feedback</th>\n",
       "      <th>Avg Rating</th>\n",
       "      <th>All in Hotels</th>\n",
       "      <th>Most Popular</th>\n",
       "    </tr>\n",
       "  </thead>\n",
       "  <tbody>\n",
       "    <tr>\n",
       "      <th>0</th>\n",
       "      <td>1.0</td>\n",
       "      <td>New Zealand</td>\n",
       "      <td>9.0</td>\n",
       "      <td>4.0</td>\n",
       "      <td>5.0</td>\n",
       "      <td>Rotura</td>\n",
       "    </tr>\n",
       "    <tr>\n",
       "      <th>1</th>\n",
       "      <td>2.0</td>\n",
       "      <td>North Pole</td>\n",
       "      <td>8.0</td>\n",
       "      <td>4.0</td>\n",
       "      <td>6.0</td>\n",
       "      <td>Svalbard</td>\n",
       "    </tr>\n",
       "    <tr>\n",
       "      <th>2</th>\n",
       "      <td>3.0</td>\n",
       "      <td>Turkmenistan</td>\n",
       "      <td>7.0</td>\n",
       "      <td>3.0</td>\n",
       "      <td>9.0</td>\n",
       "      <td>Derweze</td>\n",
       "    </tr>\n",
       "    <tr>\n",
       "      <th>3</th>\n",
       "      <td>4.0</td>\n",
       "      <td>Russia</td>\n",
       "      <td>8.0</td>\n",
       "      <td>5.0</td>\n",
       "      <td>17.0</td>\n",
       "      <td>Yekaterinburg</td>\n",
       "    </tr>\n",
       "    <tr>\n",
       "      <th>4</th>\n",
       "      <td>5.0</td>\n",
       "      <td>Austria</td>\n",
       "      <td>9.0</td>\n",
       "      <td>4.0</td>\n",
       "      <td>12.0</td>\n",
       "      <td>Hinterbruhl</td>\n",
       "    </tr>\n",
       "    <tr>\n",
       "      <th>5</th>\n",
       "      <td>6.0</td>\n",
       "      <td>China</td>\n",
       "      <td>8.0</td>\n",
       "      <td>3.0</td>\n",
       "      <td>198.0</td>\n",
       "      <td>Xinjiang</td>\n",
       "    </tr>\n",
       "    <tr>\n",
       "      <th>6</th>\n",
       "      <td>7.0</td>\n",
       "      <td>Italy</td>\n",
       "      <td>9.0</td>\n",
       "      <td>5.0</td>\n",
       "      <td>76.0</td>\n",
       "      <td>Puglia</td>\n",
       "    </tr>\n",
       "    <tr>\n",
       "      <th>7</th>\n",
       "      <td>8.0</td>\n",
       "      <td>France</td>\n",
       "      <td>6.0</td>\n",
       "      <td>3.0</td>\n",
       "      <td>24.0</td>\n",
       "      <td>Nantes</td>\n",
       "    </tr>\n",
       "    <tr>\n",
       "      <th>8</th>\n",
       "      <td>9.0</td>\n",
       "      <td>India</td>\n",
       "      <td>8.0</td>\n",
       "      <td>3.0</td>\n",
       "      <td>45.0</td>\n",
       "      <td>Ladakh</td>\n",
       "    </tr>\n",
       "    <tr>\n",
       "      <th>9</th>\n",
       "      <td>10.0</td>\n",
       "      <td>Indonesia</td>\n",
       "      <td>9.0</td>\n",
       "      <td>4.0</td>\n",
       "      <td>80.0</td>\n",
       "      <td>Aceh</td>\n",
       "    </tr>\n",
       "    <tr>\n",
       "      <th>10</th>\n",
       "      <td>11.0</td>\n",
       "      <td>Japan</td>\n",
       "      <td>10.0</td>\n",
       "      <td>5.0</td>\n",
       "      <td>90.0</td>\n",
       "      <td>Beppu</td>\n",
       "    </tr>\n",
       "    <tr>\n",
       "      <th>11</th>\n",
       "      <td>12.0</td>\n",
       "      <td>Turkey</td>\n",
       "      <td>9.0</td>\n",
       "      <td>4.0</td>\n",
       "      <td>54.0</td>\n",
       "      <td>Faralya</td>\n",
       "    </tr>\n",
       "    <tr>\n",
       "      <th>12</th>\n",
       "      <td>13.0</td>\n",
       "      <td>Palestine</td>\n",
       "      <td>9.0</td>\n",
       "      <td>3.0</td>\n",
       "      <td>5.0</td>\n",
       "      <td>Jerusalem</td>\n",
       "    </tr>\n",
       "    <tr>\n",
       "      <th>13</th>\n",
       "      <td>14.0</td>\n",
       "      <td>Oman</td>\n",
       "      <td>7.0</td>\n",
       "      <td>5.0</td>\n",
       "      <td>2.0</td>\n",
       "      <td>Bahla</td>\n",
       "    </tr>\n",
       "    <tr>\n",
       "      <th>14</th>\n",
       "      <td>15.0</td>\n",
       "      <td>United Kingdom</td>\n",
       "      <td>7.0</td>\n",
       "      <td>4.0</td>\n",
       "      <td>20.0</td>\n",
       "      <td>London</td>\n",
       "    </tr>\n",
       "    <tr>\n",
       "      <th>15</th>\n",
       "      <td>NaN</td>\n",
       "      <td>NaN</td>\n",
       "      <td>NaN</td>\n",
       "      <td>NaN</td>\n",
       "      <td>NaN</td>\n",
       "      <td>NaN</td>\n",
       "    </tr>\n",
       "    <tr>\n",
       "      <th>16</th>\n",
       "      <td>NaN</td>\n",
       "      <td>NaN</td>\n",
       "      <td>NaN</td>\n",
       "      <td>NaN</td>\n",
       "      <td>NaN</td>\n",
       "      <td>NaN</td>\n",
       "    </tr>\n",
       "  </tbody>\n",
       "</table>\n",
       "</div>"
      ],
      "text/plain": [
       "      id     Destination  Feedback  Avg Rating  All in Hotels   Most Popular\n",
       "0    1.0     New Zealand       9.0         4.0            5.0         Rotura\n",
       "1    2.0      North Pole       8.0         4.0            6.0       Svalbard\n",
       "2    3.0    Turkmenistan       7.0         3.0            9.0        Derweze\n",
       "3    4.0          Russia       8.0         5.0           17.0  Yekaterinburg\n",
       "4    5.0         Austria       9.0         4.0           12.0    Hinterbruhl\n",
       "5    6.0           China       8.0         3.0          198.0       Xinjiang\n",
       "6    7.0           Italy       9.0         5.0           76.0         Puglia\n",
       "7    8.0          France       6.0         3.0           24.0         Nantes\n",
       "8    9.0           India       8.0         3.0           45.0         Ladakh\n",
       "9   10.0       Indonesia       9.0         4.0           80.0           Aceh\n",
       "10  11.0           Japan      10.0         5.0           90.0          Beppu\n",
       "11  12.0          Turkey       9.0         4.0           54.0        Faralya\n",
       "12  13.0       Palestine       9.0         3.0            5.0      Jerusalem\n",
       "13  14.0            Oman       7.0         5.0            2.0          Bahla\n",
       "14  15.0  United Kingdom       7.0         4.0           20.0         London\n",
       "15   NaN             NaN       NaN         NaN            NaN            NaN\n",
       "16   NaN             NaN       NaN         NaN            NaN            NaN"
      ]
     },
     "execution_count": 2,
     "metadata": {},
     "output_type": "execute_result"
    }
   ],
   "source": [
    "#import pandas\n",
    "import pandas as pd\n",
    "\n",
    "#loading data into dataframe\n",
    "df = pd.read_csv('/kaggle/input/destination/Destination.csv')\n",
    "\n",
    "df"
   ]
  },
  {
   "cell_type": "markdown",
   "id": "f2f5d066",
   "metadata": {
    "papermill": {
     "duration": 0.008927,
     "end_time": "2023-03-15T11:42:57.763692",
     "exception": false,
     "start_time": "2023-03-15T11:42:57.754765",
     "status": "completed"
    },
    "tags": []
   },
   "source": [
    "Use df to display the whole data in a cell."
   ]
  },
  {
   "cell_type": "code",
   "execution_count": 3,
   "id": "b676def0",
   "metadata": {
    "execution": {
     "iopub.execute_input": "2023-03-15T11:42:57.784037Z",
     "iopub.status.busy": "2023-03-15T11:42:57.783596Z",
     "iopub.status.idle": "2023-03-15T11:42:57.800060Z",
     "shell.execute_reply": "2023-03-15T11:42:57.798549Z"
    },
    "papermill": {
     "duration": 0.030015,
     "end_time": "2023-03-15T11:42:57.803053",
     "exception": false,
     "start_time": "2023-03-15T11:42:57.773038",
     "status": "completed"
    },
    "tags": []
   },
   "outputs": [
    {
     "data": {
      "text/html": [
       "<div>\n",
       "<style scoped>\n",
       "    .dataframe tbody tr th:only-of-type {\n",
       "        vertical-align: middle;\n",
       "    }\n",
       "\n",
       "    .dataframe tbody tr th {\n",
       "        vertical-align: top;\n",
       "    }\n",
       "\n",
       "    .dataframe thead th {\n",
       "        text-align: right;\n",
       "    }\n",
       "</style>\n",
       "<table border=\"1\" class=\"dataframe\">\n",
       "  <thead>\n",
       "    <tr style=\"text-align: right;\">\n",
       "      <th></th>\n",
       "      <th>id</th>\n",
       "      <th>Destination</th>\n",
       "      <th>Feedback</th>\n",
       "      <th>Avg Rating</th>\n",
       "      <th>All in Hotels</th>\n",
       "      <th>Most Popular</th>\n",
       "    </tr>\n",
       "  </thead>\n",
       "  <tbody>\n",
       "    <tr>\n",
       "      <th>0</th>\n",
       "      <td>1.0</td>\n",
       "      <td>New Zealand</td>\n",
       "      <td>9.0</td>\n",
       "      <td>4.0</td>\n",
       "      <td>5.0</td>\n",
       "      <td>Rotura</td>\n",
       "    </tr>\n",
       "    <tr>\n",
       "      <th>1</th>\n",
       "      <td>2.0</td>\n",
       "      <td>North Pole</td>\n",
       "      <td>8.0</td>\n",
       "      <td>4.0</td>\n",
       "      <td>6.0</td>\n",
       "      <td>Svalbard</td>\n",
       "    </tr>\n",
       "    <tr>\n",
       "      <th>2</th>\n",
       "      <td>3.0</td>\n",
       "      <td>Turkmenistan</td>\n",
       "      <td>7.0</td>\n",
       "      <td>3.0</td>\n",
       "      <td>9.0</td>\n",
       "      <td>Derweze</td>\n",
       "    </tr>\n",
       "    <tr>\n",
       "      <th>3</th>\n",
       "      <td>4.0</td>\n",
       "      <td>Russia</td>\n",
       "      <td>8.0</td>\n",
       "      <td>5.0</td>\n",
       "      <td>17.0</td>\n",
       "      <td>Yekaterinburg</td>\n",
       "    </tr>\n",
       "    <tr>\n",
       "      <th>4</th>\n",
       "      <td>5.0</td>\n",
       "      <td>Austria</td>\n",
       "      <td>9.0</td>\n",
       "      <td>4.0</td>\n",
       "      <td>12.0</td>\n",
       "      <td>Hinterbruhl</td>\n",
       "    </tr>\n",
       "  </tbody>\n",
       "</table>\n",
       "</div>"
      ],
      "text/plain": [
       "    id   Destination  Feedback  Avg Rating  All in Hotels   Most Popular\n",
       "0  1.0   New Zealand       9.0         4.0            5.0         Rotura\n",
       "1  2.0    North Pole       8.0         4.0            6.0       Svalbard\n",
       "2  3.0  Turkmenistan       7.0         3.0            9.0        Derweze\n",
       "3  4.0        Russia       8.0         5.0           17.0  Yekaterinburg\n",
       "4  5.0       Austria       9.0         4.0           12.0    Hinterbruhl"
      ]
     },
     "execution_count": 3,
     "metadata": {},
     "output_type": "execute_result"
    }
   ],
   "source": [
    "df.head(5)"
   ]
  },
  {
   "cell_type": "markdown",
   "id": "14fe97eb",
   "metadata": {
    "papermill": {
     "duration": 0.010055,
     "end_time": "2023-03-15T11:42:57.824151",
     "exception": false,
     "start_time": "2023-03-15T11:42:57.814096",
     "status": "completed"
    },
    "tags": []
   },
   "source": [
    "use tail(to show the last five rows)"
   ]
  },
  {
   "cell_type": "code",
   "execution_count": 4,
   "id": "70b8f18d",
   "metadata": {
    "execution": {
     "iopub.execute_input": "2023-03-15T11:42:57.847065Z",
     "iopub.status.busy": "2023-03-15T11:42:57.846606Z",
     "iopub.status.idle": "2023-03-15T11:42:57.866266Z",
     "shell.execute_reply": "2023-03-15T11:42:57.864534Z"
    },
    "papermill": {
     "duration": 0.03416,
     "end_time": "2023-03-15T11:42:57.869822",
     "exception": false,
     "start_time": "2023-03-15T11:42:57.835662",
     "status": "completed"
    },
    "tags": []
   },
   "outputs": [
    {
     "data": {
      "text/html": [
       "<div>\n",
       "<style scoped>\n",
       "    .dataframe tbody tr th:only-of-type {\n",
       "        vertical-align: middle;\n",
       "    }\n",
       "\n",
       "    .dataframe tbody tr th {\n",
       "        vertical-align: top;\n",
       "    }\n",
       "\n",
       "    .dataframe thead th {\n",
       "        text-align: right;\n",
       "    }\n",
       "</style>\n",
       "<table border=\"1\" class=\"dataframe\">\n",
       "  <thead>\n",
       "    <tr style=\"text-align: right;\">\n",
       "      <th></th>\n",
       "      <th>id</th>\n",
       "      <th>Destination</th>\n",
       "      <th>Feedback</th>\n",
       "      <th>Avg Rating</th>\n",
       "      <th>All in Hotels</th>\n",
       "      <th>Most Popular</th>\n",
       "    </tr>\n",
       "  </thead>\n",
       "  <tbody>\n",
       "    <tr>\n",
       "      <th>7</th>\n",
       "      <td>8.0</td>\n",
       "      <td>France</td>\n",
       "      <td>6.0</td>\n",
       "      <td>3.0</td>\n",
       "      <td>24.0</td>\n",
       "      <td>Nantes</td>\n",
       "    </tr>\n",
       "    <tr>\n",
       "      <th>8</th>\n",
       "      <td>9.0</td>\n",
       "      <td>India</td>\n",
       "      <td>8.0</td>\n",
       "      <td>3.0</td>\n",
       "      <td>45.0</td>\n",
       "      <td>Ladakh</td>\n",
       "    </tr>\n",
       "    <tr>\n",
       "      <th>9</th>\n",
       "      <td>10.0</td>\n",
       "      <td>Indonesia</td>\n",
       "      <td>9.0</td>\n",
       "      <td>4.0</td>\n",
       "      <td>80.0</td>\n",
       "      <td>Aceh</td>\n",
       "    </tr>\n",
       "    <tr>\n",
       "      <th>10</th>\n",
       "      <td>11.0</td>\n",
       "      <td>Japan</td>\n",
       "      <td>10.0</td>\n",
       "      <td>5.0</td>\n",
       "      <td>90.0</td>\n",
       "      <td>Beppu</td>\n",
       "    </tr>\n",
       "    <tr>\n",
       "      <th>11</th>\n",
       "      <td>12.0</td>\n",
       "      <td>Turkey</td>\n",
       "      <td>9.0</td>\n",
       "      <td>4.0</td>\n",
       "      <td>54.0</td>\n",
       "      <td>Faralya</td>\n",
       "    </tr>\n",
       "    <tr>\n",
       "      <th>12</th>\n",
       "      <td>13.0</td>\n",
       "      <td>Palestine</td>\n",
       "      <td>9.0</td>\n",
       "      <td>3.0</td>\n",
       "      <td>5.0</td>\n",
       "      <td>Jerusalem</td>\n",
       "    </tr>\n",
       "    <tr>\n",
       "      <th>13</th>\n",
       "      <td>14.0</td>\n",
       "      <td>Oman</td>\n",
       "      <td>7.0</td>\n",
       "      <td>5.0</td>\n",
       "      <td>2.0</td>\n",
       "      <td>Bahla</td>\n",
       "    </tr>\n",
       "    <tr>\n",
       "      <th>14</th>\n",
       "      <td>15.0</td>\n",
       "      <td>United Kingdom</td>\n",
       "      <td>7.0</td>\n",
       "      <td>4.0</td>\n",
       "      <td>20.0</td>\n",
       "      <td>London</td>\n",
       "    </tr>\n",
       "    <tr>\n",
       "      <th>15</th>\n",
       "      <td>NaN</td>\n",
       "      <td>NaN</td>\n",
       "      <td>NaN</td>\n",
       "      <td>NaN</td>\n",
       "      <td>NaN</td>\n",
       "      <td>NaN</td>\n",
       "    </tr>\n",
       "    <tr>\n",
       "      <th>16</th>\n",
       "      <td>NaN</td>\n",
       "      <td>NaN</td>\n",
       "      <td>NaN</td>\n",
       "      <td>NaN</td>\n",
       "      <td>NaN</td>\n",
       "      <td>NaN</td>\n",
       "    </tr>\n",
       "  </tbody>\n",
       "</table>\n",
       "</div>"
      ],
      "text/plain": [
       "      id     Destination  Feedback  Avg Rating  All in Hotels Most Popular\n",
       "7    8.0          France       6.0         3.0           24.0       Nantes\n",
       "8    9.0           India       8.0         3.0           45.0       Ladakh\n",
       "9   10.0       Indonesia       9.0         4.0           80.0         Aceh\n",
       "10  11.0           Japan      10.0         5.0           90.0        Beppu\n",
       "11  12.0          Turkey       9.0         4.0           54.0      Faralya\n",
       "12  13.0       Palestine       9.0         3.0            5.0    Jerusalem\n",
       "13  14.0            Oman       7.0         5.0            2.0        Bahla\n",
       "14  15.0  United Kingdom       7.0         4.0           20.0       London\n",
       "15   NaN             NaN       NaN         NaN            NaN          NaN\n",
       "16   NaN             NaN       NaN         NaN            NaN          NaN"
      ]
     },
     "execution_count": 4,
     "metadata": {},
     "output_type": "execute_result"
    }
   ],
   "source": [
    "df.tail(10)"
   ]
  },
  {
   "cell_type": "markdown",
   "id": "5f6b469e",
   "metadata": {
    "papermill": {
     "duration": 0.010382,
     "end_time": "2023-03-15T11:42:57.891156",
     "exception": false,
     "start_time": "2023-03-15T11:42:57.880774",
     "status": "completed"
    },
    "tags": []
   },
   "source": [
    "# **Pandas two main data structures**\n",
    "1. Series\n",
    "2. Dataframe - regular dataset (data in table format)"
   ]
  },
  {
   "cell_type": "markdown",
   "id": "50c8c517",
   "metadata": {
    "papermill": {
     "duration": 0.009131,
     "end_time": "2023-03-15T11:42:57.910178",
     "exception": false,
     "start_time": "2023-03-15T11:42:57.901047",
     "status": "completed"
    },
    "tags": []
   },
   "source": [
    "1. Series data structure as follows:\n",
    "\n"
   ]
  },
  {
   "cell_type": "code",
   "execution_count": 5,
   "id": "5e1d805a",
   "metadata": {
    "execution": {
     "iopub.execute_input": "2023-03-15T11:42:57.933035Z",
     "iopub.status.busy": "2023-03-15T11:42:57.931952Z",
     "iopub.status.idle": "2023-03-15T11:42:57.943469Z",
     "shell.execute_reply": "2023-03-15T11:42:57.942449Z"
    },
    "papermill": {
     "duration": 0.025949,
     "end_time": "2023-03-15T11:42:57.946209",
     "exception": false,
     "start_time": "2023-03-15T11:42:57.920260",
     "status": "completed"
    },
    "tags": []
   },
   "outputs": [
    {
     "data": {
      "text/plain": [
       "0        New Zealand\n",
       "1         North Pole\n",
       "2       Turkmenistan\n",
       "3             Russia\n",
       "4            Austria\n",
       "5              China\n",
       "6              Italy\n",
       "7             France\n",
       "8              India\n",
       "9          Indonesia\n",
       "10             Japan\n",
       "11            Turkey\n",
       "12         Palestine\n",
       "13              Oman\n",
       "14    United Kingdom\n",
       "15               NaN\n",
       "16               NaN\n",
       "Name: Destination, dtype: object"
      ]
     },
     "execution_count": 5,
     "metadata": {},
     "output_type": "execute_result"
    }
   ],
   "source": [
    "df.Destination #series, will display data as a single column"
   ]
  },
  {
   "cell_type": "code",
   "execution_count": 6,
   "id": "79bd84a7",
   "metadata": {
    "execution": {
     "iopub.execute_input": "2023-03-15T11:42:57.968884Z",
     "iopub.status.busy": "2023-03-15T11:42:57.968409Z",
     "iopub.status.idle": "2023-03-15T11:42:57.976783Z",
     "shell.execute_reply": "2023-03-15T11:42:57.975309Z"
    },
    "papermill": {
     "duration": 0.023484,
     "end_time": "2023-03-15T11:42:57.979530",
     "exception": false,
     "start_time": "2023-03-15T11:42:57.956046",
     "status": "completed"
    },
    "tags": []
   },
   "outputs": [
    {
     "data": {
      "text/plain": [
       "Index(['id', 'Destination', 'Feedback', 'Avg Rating', 'All in Hotels',\n",
       "       'Most Popular'],\n",
       "      dtype='object')"
      ]
     },
     "execution_count": 6,
     "metadata": {},
     "output_type": "execute_result"
    }
   ],
   "source": [
    "df.columns #diplays titles of all columns"
   ]
  },
  {
   "cell_type": "code",
   "execution_count": 7,
   "id": "343d96cf",
   "metadata": {
    "execution": {
     "iopub.execute_input": "2023-03-15T11:42:58.002100Z",
     "iopub.status.busy": "2023-03-15T11:42:58.001628Z",
     "iopub.status.idle": "2023-03-15T11:42:58.009046Z",
     "shell.execute_reply": "2023-03-15T11:42:58.007800Z"
    },
    "papermill": {
     "duration": 0.021625,
     "end_time": "2023-03-15T11:42:58.011607",
     "exception": false,
     "start_time": "2023-03-15T11:42:57.989982",
     "status": "completed"
    },
    "tags": []
   },
   "outputs": [
    {
     "data": {
      "text/plain": [
       "RangeIndex(start=0, stop=17, step=1)"
      ]
     },
     "execution_count": 7,
     "metadata": {},
     "output_type": "execute_result"
    }
   ],
   "source": [
    "df.index #displays first and last index, and the step between them"
   ]
  },
  {
   "cell_type": "code",
   "execution_count": 8,
   "id": "47a3ec4f",
   "metadata": {
    "execution": {
     "iopub.execute_input": "2023-03-15T11:42:58.032615Z",
     "iopub.status.busy": "2023-03-15T11:42:58.032220Z",
     "iopub.status.idle": "2023-03-15T11:42:58.040648Z",
     "shell.execute_reply": "2023-03-15T11:42:58.038882Z"
    },
    "papermill": {
     "duration": 0.022453,
     "end_time": "2023-03-15T11:42:58.043424",
     "exception": false,
     "start_time": "2023-03-15T11:42:58.020971",
     "status": "completed"
    },
    "tags": []
   },
   "outputs": [
    {
     "data": {
      "text/plain": [
       "(17, 6)"
      ]
     },
     "execution_count": 8,
     "metadata": {},
     "output_type": "execute_result"
    }
   ],
   "source": [
    "df.shape #return a tuple (no. of rows, no. of columns)"
   ]
  },
  {
   "cell_type": "code",
   "execution_count": 9,
   "id": "4e1d9de3",
   "metadata": {
    "execution": {
     "iopub.execute_input": "2023-03-15T11:42:58.064721Z",
     "iopub.status.busy": "2023-03-15T11:42:58.064294Z",
     "iopub.status.idle": "2023-03-15T11:42:58.074300Z",
     "shell.execute_reply": "2023-03-15T11:42:58.072731Z"
    },
    "papermill": {
     "duration": 0.0245,
     "end_time": "2023-03-15T11:42:58.077421",
     "exception": false,
     "start_time": "2023-03-15T11:42:58.052921",
     "status": "completed"
    },
    "tags": []
   },
   "outputs": [
    {
     "data": {
      "text/plain": [
       "id               float64\n",
       "Destination       object\n",
       "Feedback         float64\n",
       "Avg Rating       float64\n",
       "All in Hotels    float64\n",
       "Most Popular      object\n",
       "dtype: object"
      ]
     },
     "execution_count": 9,
     "metadata": {},
     "output_type": "execute_result"
    }
   ],
   "source": [
    "df.dtypes #will display data type stored in each row. Object = string."
   ]
  },
  {
   "cell_type": "code",
   "execution_count": 10,
   "id": "7051e29a",
   "metadata": {
    "execution": {
     "iopub.execute_input": "2023-03-15T11:42:58.100547Z",
     "iopub.status.busy": "2023-03-15T11:42:58.100151Z",
     "iopub.status.idle": "2023-03-15T11:42:58.126308Z",
     "shell.execute_reply": "2023-03-15T11:42:58.124853Z"
    },
    "papermill": {
     "duration": 0.042627,
     "end_time": "2023-03-15T11:42:58.130122",
     "exception": false,
     "start_time": "2023-03-15T11:42:58.087495",
     "status": "completed"
    },
    "tags": []
   },
   "outputs": [
    {
     "name": "stdout",
     "output_type": "stream",
     "text": [
      "<class 'pandas.core.frame.DataFrame'>\n",
      "RangeIndex: 17 entries, 0 to 16\n",
      "Data columns (total 6 columns):\n",
      " #   Column         Non-Null Count  Dtype  \n",
      "---  ------         --------------  -----  \n",
      " 0   id             15 non-null     float64\n",
      " 1   Destination    15 non-null     object \n",
      " 2   Feedback       15 non-null     float64\n",
      " 3   Avg Rating     15 non-null     float64\n",
      " 4   All in Hotels  15 non-null     float64\n",
      " 5   Most Popular   15 non-null     object \n",
      "dtypes: float64(4), object(2)\n",
      "memory usage: 944.0+ bytes\n"
     ]
    }
   ],
   "source": [
    "df.info() #information about the data"
   ]
  },
  {
   "cell_type": "code",
   "execution_count": 11,
   "id": "4c7b40b8",
   "metadata": {
    "execution": {
     "iopub.execute_input": "2023-03-15T11:42:58.155328Z",
     "iopub.status.busy": "2023-03-15T11:42:58.154907Z",
     "iopub.status.idle": "2023-03-15T11:42:58.164987Z",
     "shell.execute_reply": "2023-03-15T11:42:58.163199Z"
    },
    "papermill": {
     "duration": 0.025608,
     "end_time": "2023-03-15T11:42:58.168044",
     "exception": false,
     "start_time": "2023-03-15T11:42:58.142436",
     "status": "completed"
    },
    "tags": []
   },
   "outputs": [
    {
     "data": {
      "text/plain": [
       "0      9.0\n",
       "1      8.0\n",
       "2      7.0\n",
       "3      8.0\n",
       "4      9.0\n",
       "5      8.0\n",
       "6      9.0\n",
       "7      6.0\n",
       "8      8.0\n",
       "9      9.0\n",
       "10    10.0\n",
       "11     9.0\n",
       "12     9.0\n",
       "13     7.0\n",
       "14     7.0\n",
       "15     NaN\n",
       "16     NaN\n",
       "Name: Feedback, dtype: float64"
      ]
     },
     "execution_count": 11,
     "metadata": {},
     "output_type": "execute_result"
    }
   ],
   "source": [
    "df.Feedback #display only the feedback column. syntax = df.columnName"
   ]
  },
  {
   "cell_type": "code",
   "execution_count": 12,
   "id": "37ce5fa8",
   "metadata": {
    "execution": {
     "iopub.execute_input": "2023-03-15T11:42:58.193379Z",
     "iopub.status.busy": "2023-03-15T11:42:58.192874Z",
     "iopub.status.idle": "2023-03-15T11:42:58.209608Z",
     "shell.execute_reply": "2023-03-15T11:42:58.207829Z"
    },
    "papermill": {
     "duration": 0.033129,
     "end_time": "2023-03-15T11:42:58.212527",
     "exception": false,
     "start_time": "2023-03-15T11:42:58.179398",
     "status": "completed"
    },
    "tags": []
   },
   "outputs": [
    {
     "data": {
      "text/html": [
       "<div>\n",
       "<style scoped>\n",
       "    .dataframe tbody tr th:only-of-type {\n",
       "        vertical-align: middle;\n",
       "    }\n",
       "\n",
       "    .dataframe tbody tr th {\n",
       "        vertical-align: top;\n",
       "    }\n",
       "\n",
       "    .dataframe thead th {\n",
       "        text-align: right;\n",
       "    }\n",
       "</style>\n",
       "<table border=\"1\" class=\"dataframe\">\n",
       "  <thead>\n",
       "    <tr style=\"text-align: right;\">\n",
       "      <th></th>\n",
       "      <th>Feedback</th>\n",
       "      <th>Destination</th>\n",
       "    </tr>\n",
       "  </thead>\n",
       "  <tbody>\n",
       "    <tr>\n",
       "      <th>0</th>\n",
       "      <td>9.0</td>\n",
       "      <td>New Zealand</td>\n",
       "    </tr>\n",
       "    <tr>\n",
       "      <th>1</th>\n",
       "      <td>8.0</td>\n",
       "      <td>North Pole</td>\n",
       "    </tr>\n",
       "    <tr>\n",
       "      <th>2</th>\n",
       "      <td>7.0</td>\n",
       "      <td>Turkmenistan</td>\n",
       "    </tr>\n",
       "    <tr>\n",
       "      <th>3</th>\n",
       "      <td>8.0</td>\n",
       "      <td>Russia</td>\n",
       "    </tr>\n",
       "    <tr>\n",
       "      <th>4</th>\n",
       "      <td>9.0</td>\n",
       "      <td>Austria</td>\n",
       "    </tr>\n",
       "  </tbody>\n",
       "</table>\n",
       "</div>"
      ],
      "text/plain": [
       "   Feedback   Destination\n",
       "0       9.0   New Zealand\n",
       "1       8.0    North Pole\n",
       "2       7.0  Turkmenistan\n",
       "3       8.0        Russia\n",
       "4       9.0       Austria"
      ]
     },
     "execution_count": 12,
     "metadata": {},
     "output_type": "execute_result"
    }
   ],
   "source": [
    "df[['Feedback', 'Destination']].head() #display the first 5 rows of the two columns specified in the [[ ]]."
   ]
  },
  {
   "cell_type": "code",
   "execution_count": 13,
   "id": "8bfaca23",
   "metadata": {
    "execution": {
     "iopub.execute_input": "2023-03-15T11:42:58.236511Z",
     "iopub.status.busy": "2023-03-15T11:42:58.236035Z",
     "iopub.status.idle": "2023-03-15T11:42:58.250360Z",
     "shell.execute_reply": "2023-03-15T11:42:58.248828Z"
    },
    "papermill": {
     "duration": 0.029814,
     "end_time": "2023-03-15T11:42:58.253436",
     "exception": false,
     "start_time": "2023-03-15T11:42:58.223622",
     "status": "completed"
    },
    "tags": []
   },
   "outputs": [
    {
     "data": {
      "text/html": [
       "<div>\n",
       "<style scoped>\n",
       "    .dataframe tbody tr th:only-of-type {\n",
       "        vertical-align: middle;\n",
       "    }\n",
       "\n",
       "    .dataframe tbody tr th {\n",
       "        vertical-align: top;\n",
       "    }\n",
       "\n",
       "    .dataframe thead th {\n",
       "        text-align: right;\n",
       "    }\n",
       "</style>\n",
       "<table border=\"1\" class=\"dataframe\">\n",
       "  <thead>\n",
       "    <tr style=\"text-align: right;\">\n",
       "      <th></th>\n",
       "      <th>Most Popular</th>\n",
       "    </tr>\n",
       "  </thead>\n",
       "  <tbody>\n",
       "    <tr>\n",
       "      <th>0</th>\n",
       "      <td>Rotura</td>\n",
       "    </tr>\n",
       "    <tr>\n",
       "      <th>1</th>\n",
       "      <td>Svalbard</td>\n",
       "    </tr>\n",
       "    <tr>\n",
       "      <th>2</th>\n",
       "      <td>Derweze</td>\n",
       "    </tr>\n",
       "    <tr>\n",
       "      <th>3</th>\n",
       "      <td>Yekaterinburg</td>\n",
       "    </tr>\n",
       "    <tr>\n",
       "      <th>4</th>\n",
       "      <td>Hinterbruhl</td>\n",
       "    </tr>\n",
       "    <tr>\n",
       "      <th>5</th>\n",
       "      <td>Xinjiang</td>\n",
       "    </tr>\n",
       "    <tr>\n",
       "      <th>6</th>\n",
       "      <td>Puglia</td>\n",
       "    </tr>\n",
       "    <tr>\n",
       "      <th>7</th>\n",
       "      <td>Nantes</td>\n",
       "    </tr>\n",
       "    <tr>\n",
       "      <th>8</th>\n",
       "      <td>Ladakh</td>\n",
       "    </tr>\n",
       "    <tr>\n",
       "      <th>9</th>\n",
       "      <td>Aceh</td>\n",
       "    </tr>\n",
       "    <tr>\n",
       "      <th>10</th>\n",
       "      <td>Beppu</td>\n",
       "    </tr>\n",
       "    <tr>\n",
       "      <th>11</th>\n",
       "      <td>Faralya</td>\n",
       "    </tr>\n",
       "    <tr>\n",
       "      <th>12</th>\n",
       "      <td>Jerusalem</td>\n",
       "    </tr>\n",
       "    <tr>\n",
       "      <th>13</th>\n",
       "      <td>Bahla</td>\n",
       "    </tr>\n",
       "    <tr>\n",
       "      <th>14</th>\n",
       "      <td>London</td>\n",
       "    </tr>\n",
       "    <tr>\n",
       "      <th>15</th>\n",
       "      <td>NaN</td>\n",
       "    </tr>\n",
       "    <tr>\n",
       "      <th>16</th>\n",
       "      <td>NaN</td>\n",
       "    </tr>\n",
       "  </tbody>\n",
       "</table>\n",
       "</div>"
      ],
      "text/plain": [
       "     Most Popular\n",
       "0          Rotura\n",
       "1        Svalbard\n",
       "2         Derweze\n",
       "3   Yekaterinburg\n",
       "4     Hinterbruhl\n",
       "5        Xinjiang\n",
       "6          Puglia\n",
       "7          Nantes\n",
       "8          Ladakh\n",
       "9            Aceh\n",
       "10          Beppu\n",
       "11        Faralya\n",
       "12      Jerusalem\n",
       "13          Bahla\n",
       "14         London\n",
       "15            NaN\n",
       "16            NaN"
      ]
     },
     "execution_count": 13,
     "metadata": {},
     "output_type": "execute_result"
    }
   ],
   "source": [
    "df[['Most Popular']] #to display column with space in the name"
   ]
  },
  {
   "cell_type": "code",
   "execution_count": 14,
   "id": "1af478fb",
   "metadata": {
    "execution": {
     "iopub.execute_input": "2023-03-15T11:42:58.278279Z",
     "iopub.status.busy": "2023-03-15T11:42:58.277754Z",
     "iopub.status.idle": "2023-03-15T11:42:58.297465Z",
     "shell.execute_reply": "2023-03-15T11:42:58.295920Z"
    },
    "papermill": {
     "duration": 0.035741,
     "end_time": "2023-03-15T11:42:58.300139",
     "exception": false,
     "start_time": "2023-03-15T11:42:58.264398",
     "status": "completed"
    },
    "tags": []
   },
   "outputs": [
    {
     "data": {
      "text/html": [
       "<div>\n",
       "<style scoped>\n",
       "    .dataframe tbody tr th:only-of-type {\n",
       "        vertical-align: middle;\n",
       "    }\n",
       "\n",
       "    .dataframe tbody tr th {\n",
       "        vertical-align: top;\n",
       "    }\n",
       "\n",
       "    .dataframe thead th {\n",
       "        text-align: right;\n",
       "    }\n",
       "</style>\n",
       "<table border=\"1\" class=\"dataframe\">\n",
       "  <thead>\n",
       "    <tr style=\"text-align: right;\">\n",
       "      <th></th>\n",
       "      <th>id</th>\n",
       "      <th>Destination</th>\n",
       "      <th>Feedback</th>\n",
       "      <th>Avg Rating</th>\n",
       "      <th>All in Hotels</th>\n",
       "      <th>Most Popular</th>\n",
       "    </tr>\n",
       "  </thead>\n",
       "  <tbody>\n",
       "    <tr>\n",
       "      <th>4</th>\n",
       "      <td>5.0</td>\n",
       "      <td>Austria</td>\n",
       "      <td>9.0</td>\n",
       "      <td>4.0</td>\n",
       "      <td>12.0</td>\n",
       "      <td>Hinterbruhl</td>\n",
       "    </tr>\n",
       "    <tr>\n",
       "      <th>5</th>\n",
       "      <td>6.0</td>\n",
       "      <td>China</td>\n",
       "      <td>8.0</td>\n",
       "      <td>3.0</td>\n",
       "      <td>198.0</td>\n",
       "      <td>Xinjiang</td>\n",
       "    </tr>\n",
       "    <tr>\n",
       "      <th>6</th>\n",
       "      <td>7.0</td>\n",
       "      <td>Italy</td>\n",
       "      <td>9.0</td>\n",
       "      <td>5.0</td>\n",
       "      <td>76.0</td>\n",
       "      <td>Puglia</td>\n",
       "    </tr>\n",
       "    <tr>\n",
       "      <th>7</th>\n",
       "      <td>8.0</td>\n",
       "      <td>France</td>\n",
       "      <td>6.0</td>\n",
       "      <td>3.0</td>\n",
       "      <td>24.0</td>\n",
       "      <td>Nantes</td>\n",
       "    </tr>\n",
       "    <tr>\n",
       "      <th>8</th>\n",
       "      <td>9.0</td>\n",
       "      <td>India</td>\n",
       "      <td>8.0</td>\n",
       "      <td>3.0</td>\n",
       "      <td>45.0</td>\n",
       "      <td>Ladakh</td>\n",
       "    </tr>\n",
       "    <tr>\n",
       "      <th>9</th>\n",
       "      <td>10.0</td>\n",
       "      <td>Indonesia</td>\n",
       "      <td>9.0</td>\n",
       "      <td>4.0</td>\n",
       "      <td>80.0</td>\n",
       "      <td>Aceh</td>\n",
       "    </tr>\n",
       "  </tbody>\n",
       "</table>\n",
       "</div>"
      ],
      "text/plain": [
       "     id Destination  Feedback  Avg Rating  All in Hotels Most Popular\n",
       "4   5.0     Austria       9.0         4.0           12.0  Hinterbruhl\n",
       "5   6.0       China       8.0         3.0          198.0     Xinjiang\n",
       "6   7.0       Italy       9.0         5.0           76.0       Puglia\n",
       "7   8.0      France       6.0         3.0           24.0       Nantes\n",
       "8   9.0       India       8.0         3.0           45.0       Ladakh\n",
       "9  10.0   Indonesia       9.0         4.0           80.0         Aceh"
      ]
     },
     "execution_count": 14,
     "metadata": {},
     "output_type": "execute_result"
    }
   ],
   "source": [
    "df[4:10] #display rows in a given range"
   ]
  },
  {
   "cell_type": "code",
   "execution_count": 15,
   "id": "61eb8193",
   "metadata": {
    "execution": {
     "iopub.execute_input": "2023-03-15T11:42:58.325875Z",
     "iopub.status.busy": "2023-03-15T11:42:58.325425Z",
     "iopub.status.idle": "2023-03-15T11:42:58.338940Z",
     "shell.execute_reply": "2023-03-15T11:42:58.337695Z"
    },
    "papermill": {
     "duration": 0.029624,
     "end_time": "2023-03-15T11:42:58.341754",
     "exception": false,
     "start_time": "2023-03-15T11:42:58.312130",
     "status": "completed"
    },
    "tags": []
   },
   "outputs": [
    {
     "data": {
      "text/html": [
       "<div>\n",
       "<style scoped>\n",
       "    .dataframe tbody tr th:only-of-type {\n",
       "        vertical-align: middle;\n",
       "    }\n",
       "\n",
       "    .dataframe tbody tr th {\n",
       "        vertical-align: top;\n",
       "    }\n",
       "\n",
       "    .dataframe thead th {\n",
       "        text-align: right;\n",
       "    }\n",
       "</style>\n",
       "<table border=\"1\" class=\"dataframe\">\n",
       "  <thead>\n",
       "    <tr style=\"text-align: right;\">\n",
       "      <th></th>\n",
       "      <th>Destination</th>\n",
       "      <th>Feedback</th>\n",
       "      <th>Avg Rating</th>\n",
       "    </tr>\n",
       "  </thead>\n",
       "  <tbody>\n",
       "    <tr>\n",
       "      <th>1</th>\n",
       "      <td>North Pole</td>\n",
       "      <td>8.0</td>\n",
       "      <td>4.0</td>\n",
       "    </tr>\n",
       "    <tr>\n",
       "      <th>2</th>\n",
       "      <td>Turkmenistan</td>\n",
       "      <td>7.0</td>\n",
       "      <td>3.0</td>\n",
       "    </tr>\n",
       "    <tr>\n",
       "      <th>3</th>\n",
       "      <td>Russia</td>\n",
       "      <td>8.0</td>\n",
       "      <td>5.0</td>\n",
       "    </tr>\n",
       "  </tbody>\n",
       "</table>\n",
       "</div>"
      ],
      "text/plain": [
       "    Destination  Feedback  Avg Rating\n",
       "1    North Pole       8.0         4.0\n",
       "2  Turkmenistan       7.0         3.0\n",
       "3        Russia       8.0         5.0"
      ]
     },
     "execution_count": 15,
     "metadata": {},
     "output_type": "execute_result"
    }
   ],
   "source": [
    "#use df.iloc [start:stop, [column o, column 1, column 2]]\n",
    "df.iloc[1:4, [1, 2, 3]]"
   ]
  },
  {
   "cell_type": "code",
   "execution_count": 16,
   "id": "5f7ad208",
   "metadata": {
    "execution": {
     "iopub.execute_input": "2023-03-15T11:42:58.367011Z",
     "iopub.status.busy": "2023-03-15T11:42:58.366324Z",
     "iopub.status.idle": "2023-03-15T11:42:58.373953Z",
     "shell.execute_reply": "2023-03-15T11:42:58.373062Z"
    },
    "papermill": {
     "duration": 0.024362,
     "end_time": "2023-03-15T11:42:58.377309",
     "exception": false,
     "start_time": "2023-03-15T11:42:58.352947",
     "status": "completed"
    },
    "tags": []
   },
   "outputs": [
    {
     "data": {
      "text/plain": [
       "1    4.0\n",
       "2    3.0\n",
       "3    5.0\n",
       "4    4.0\n",
       "Name: Avg Rating, dtype: float64"
      ]
     },
     "execution_count": 16,
     "metadata": {},
     "output_type": "execute_result"
    }
   ],
   "source": [
    "#use 'loc[range, columnName] to get data from a particular column\n",
    "\n",
    "df.loc[1:4, 'Avg Rating']"
   ]
  },
  {
   "cell_type": "markdown",
   "id": "aed14a11",
   "metadata": {
    "papermill": {
     "duration": 0.012682,
     "end_time": "2023-03-15T11:42:58.401934",
     "exception": false,
     "start_time": "2023-03-15T11:42:58.389252",
     "status": "completed"
    },
    "tags": []
   },
   "source": [
    "Renaming column name"
   ]
  },
  {
   "cell_type": "code",
   "execution_count": 17,
   "id": "90898656",
   "metadata": {
    "execution": {
     "iopub.execute_input": "2023-03-15T11:42:58.428050Z",
     "iopub.status.busy": "2023-03-15T11:42:58.426378Z",
     "iopub.status.idle": "2023-03-15T11:42:58.446576Z",
     "shell.execute_reply": "2023-03-15T11:42:58.445094Z"
    },
    "papermill": {
     "duration": 0.03622,
     "end_time": "2023-03-15T11:42:58.450001",
     "exception": false,
     "start_time": "2023-03-15T11:42:58.413781",
     "status": "completed"
    },
    "tags": []
   },
   "outputs": [
    {
     "data": {
      "text/html": [
       "<div>\n",
       "<style scoped>\n",
       "    .dataframe tbody tr th:only-of-type {\n",
       "        vertical-align: middle;\n",
       "    }\n",
       "\n",
       "    .dataframe tbody tr th {\n",
       "        vertical-align: top;\n",
       "    }\n",
       "\n",
       "    .dataframe thead th {\n",
       "        text-align: right;\n",
       "    }\n",
       "</style>\n",
       "<table border=\"1\" class=\"dataframe\">\n",
       "  <thead>\n",
       "    <tr style=\"text-align: right;\">\n",
       "      <th></th>\n",
       "      <th>id</th>\n",
       "      <th>Destination</th>\n",
       "      <th>Feedback</th>\n",
       "      <th>Avg_Rating</th>\n",
       "      <th>All in Hotels</th>\n",
       "      <th>Most Popular</th>\n",
       "    </tr>\n",
       "  </thead>\n",
       "  <tbody>\n",
       "    <tr>\n",
       "      <th>0</th>\n",
       "      <td>1.0</td>\n",
       "      <td>New Zealand</td>\n",
       "      <td>9.0</td>\n",
       "      <td>4.0</td>\n",
       "      <td>5.0</td>\n",
       "      <td>Rotura</td>\n",
       "    </tr>\n",
       "    <tr>\n",
       "      <th>1</th>\n",
       "      <td>2.0</td>\n",
       "      <td>North Pole</td>\n",
       "      <td>8.0</td>\n",
       "      <td>4.0</td>\n",
       "      <td>6.0</td>\n",
       "      <td>Svalbard</td>\n",
       "    </tr>\n",
       "    <tr>\n",
       "      <th>2</th>\n",
       "      <td>3.0</td>\n",
       "      <td>Turkmenistan</td>\n",
       "      <td>7.0</td>\n",
       "      <td>3.0</td>\n",
       "      <td>9.0</td>\n",
       "      <td>Derweze</td>\n",
       "    </tr>\n",
       "    <tr>\n",
       "      <th>3</th>\n",
       "      <td>4.0</td>\n",
       "      <td>Russia</td>\n",
       "      <td>8.0</td>\n",
       "      <td>5.0</td>\n",
       "      <td>17.0</td>\n",
       "      <td>Yekaterinburg</td>\n",
       "    </tr>\n",
       "    <tr>\n",
       "      <th>4</th>\n",
       "      <td>5.0</td>\n",
       "      <td>Austria</td>\n",
       "      <td>9.0</td>\n",
       "      <td>4.0</td>\n",
       "      <td>12.0</td>\n",
       "      <td>Hinterbruhl</td>\n",
       "    </tr>\n",
       "  </tbody>\n",
       "</table>\n",
       "</div>"
      ],
      "text/plain": [
       "    id   Destination  Feedback  Avg_Rating  All in Hotels   Most Popular\n",
       "0  1.0   New Zealand       9.0         4.0            5.0         Rotura\n",
       "1  2.0    North Pole       8.0         4.0            6.0       Svalbard\n",
       "2  3.0  Turkmenistan       7.0         3.0            9.0        Derweze\n",
       "3  4.0        Russia       8.0         5.0           17.0  Yekaterinburg\n",
       "4  5.0       Austria       9.0         4.0           12.0    Hinterbruhl"
      ]
     },
     "execution_count": 17,
     "metadata": {},
     "output_type": "execute_result"
    }
   ],
   "source": [
    "df.rename(columns = {'Avg Rating' : 'Avg_Rating'}).head()"
   ]
  },
  {
   "cell_type": "code",
   "execution_count": 18,
   "id": "3b143b6a",
   "metadata": {
    "execution": {
     "iopub.execute_input": "2023-03-15T11:42:58.476932Z",
     "iopub.status.busy": "2023-03-15T11:42:58.475511Z",
     "iopub.status.idle": "2023-03-15T11:42:58.504875Z",
     "shell.execute_reply": "2023-03-15T11:42:58.503165Z"
    },
    "papermill": {
     "duration": 0.046714,
     "end_time": "2023-03-15T11:42:58.508133",
     "exception": false,
     "start_time": "2023-03-15T11:42:58.461419",
     "status": "completed"
    },
    "tags": []
   },
   "outputs": [
    {
     "data": {
      "text/html": [
       "<div>\n",
       "<style scoped>\n",
       "    .dataframe tbody tr th:only-of-type {\n",
       "        vertical-align: middle;\n",
       "    }\n",
       "\n",
       "    .dataframe tbody tr th {\n",
       "        vertical-align: top;\n",
       "    }\n",
       "\n",
       "    .dataframe thead th {\n",
       "        text-align: right;\n",
       "    }\n",
       "</style>\n",
       "<table border=\"1\" class=\"dataframe\">\n",
       "  <thead>\n",
       "    <tr style=\"text-align: right;\">\n",
       "      <th></th>\n",
       "      <th>id</th>\n",
       "      <th>Feedback</th>\n",
       "      <th>Avg Rating</th>\n",
       "      <th>All in Hotels</th>\n",
       "    </tr>\n",
       "  </thead>\n",
       "  <tbody>\n",
       "    <tr>\n",
       "      <th>count</th>\n",
       "      <td>15.000000</td>\n",
       "      <td>15.000000</td>\n",
       "      <td>15.000000</td>\n",
       "      <td>15.000000</td>\n",
       "    </tr>\n",
       "    <tr>\n",
       "      <th>mean</th>\n",
       "      <td>8.000000</td>\n",
       "      <td>8.200000</td>\n",
       "      <td>3.933333</td>\n",
       "      <td>42.866667</td>\n",
       "    </tr>\n",
       "    <tr>\n",
       "      <th>std</th>\n",
       "      <td>4.472136</td>\n",
       "      <td>1.082326</td>\n",
       "      <td>0.798809</td>\n",
       "      <td>52.398019</td>\n",
       "    </tr>\n",
       "    <tr>\n",
       "      <th>min</th>\n",
       "      <td>1.000000</td>\n",
       "      <td>6.000000</td>\n",
       "      <td>3.000000</td>\n",
       "      <td>2.000000</td>\n",
       "    </tr>\n",
       "    <tr>\n",
       "      <th>25%</th>\n",
       "      <td>4.500000</td>\n",
       "      <td>7.500000</td>\n",
       "      <td>3.000000</td>\n",
       "      <td>7.500000</td>\n",
       "    </tr>\n",
       "    <tr>\n",
       "      <th>50%</th>\n",
       "      <td>8.000000</td>\n",
       "      <td>8.000000</td>\n",
       "      <td>4.000000</td>\n",
       "      <td>20.000000</td>\n",
       "    </tr>\n",
       "    <tr>\n",
       "      <th>75%</th>\n",
       "      <td>11.500000</td>\n",
       "      <td>9.000000</td>\n",
       "      <td>4.500000</td>\n",
       "      <td>65.000000</td>\n",
       "    </tr>\n",
       "    <tr>\n",
       "      <th>max</th>\n",
       "      <td>15.000000</td>\n",
       "      <td>10.000000</td>\n",
       "      <td>5.000000</td>\n",
       "      <td>198.000000</td>\n",
       "    </tr>\n",
       "  </tbody>\n",
       "</table>\n",
       "</div>"
      ],
      "text/plain": [
       "              id   Feedback  Avg Rating  All in Hotels\n",
       "count  15.000000  15.000000   15.000000      15.000000\n",
       "mean    8.000000   8.200000    3.933333      42.866667\n",
       "std     4.472136   1.082326    0.798809      52.398019\n",
       "min     1.000000   6.000000    3.000000       2.000000\n",
       "25%     4.500000   7.500000    3.000000       7.500000\n",
       "50%     8.000000   8.000000    4.000000      20.000000\n",
       "75%    11.500000   9.000000    4.500000      65.000000\n",
       "max    15.000000  10.000000    5.000000     198.000000"
      ]
     },
     "execution_count": 18,
     "metadata": {},
     "output_type": "execute_result"
    }
   ],
   "source": [
    "df.describe() #get statistical analysis"
   ]
  },
  {
   "cell_type": "code",
   "execution_count": 19,
   "id": "64e46358",
   "metadata": {
    "execution": {
     "iopub.execute_input": "2023-03-15T11:42:58.538332Z",
     "iopub.status.busy": "2023-03-15T11:42:58.537917Z",
     "iopub.status.idle": "2023-03-15T11:42:58.559916Z",
     "shell.execute_reply": "2023-03-15T11:42:58.558336Z"
    },
    "papermill": {
     "duration": 0.040525,
     "end_time": "2023-03-15T11:42:58.562790",
     "exception": false,
     "start_time": "2023-03-15T11:42:58.522265",
     "status": "completed"
    },
    "tags": []
   },
   "outputs": [
    {
     "data": {
      "text/html": [
       "<div>\n",
       "<style scoped>\n",
       "    .dataframe tbody tr th:only-of-type {\n",
       "        vertical-align: middle;\n",
       "    }\n",
       "\n",
       "    .dataframe tbody tr th {\n",
       "        vertical-align: top;\n",
       "    }\n",
       "\n",
       "    .dataframe thead th {\n",
       "        text-align: right;\n",
       "    }\n",
       "</style>\n",
       "<table border=\"1\" class=\"dataframe\">\n",
       "  <thead>\n",
       "    <tr style=\"text-align: right;\">\n",
       "      <th></th>\n",
       "      <th>id</th>\n",
       "      <th>Destination</th>\n",
       "      <th>Feedback</th>\n",
       "      <th>Avg Rating</th>\n",
       "      <th>All in Hotels</th>\n",
       "      <th>Most Popular</th>\n",
       "    </tr>\n",
       "  </thead>\n",
       "  <tbody>\n",
       "    <tr>\n",
       "      <th>7</th>\n",
       "      <td>8.0</td>\n",
       "      <td>France</td>\n",
       "      <td>6.0</td>\n",
       "      <td>3.0</td>\n",
       "      <td>24.0</td>\n",
       "      <td>Nantes</td>\n",
       "    </tr>\n",
       "    <tr>\n",
       "      <th>2</th>\n",
       "      <td>3.0</td>\n",
       "      <td>Turkmenistan</td>\n",
       "      <td>7.0</td>\n",
       "      <td>3.0</td>\n",
       "      <td>9.0</td>\n",
       "      <td>Derweze</td>\n",
       "    </tr>\n",
       "    <tr>\n",
       "      <th>13</th>\n",
       "      <td>14.0</td>\n",
       "      <td>Oman</td>\n",
       "      <td>7.0</td>\n",
       "      <td>5.0</td>\n",
       "      <td>2.0</td>\n",
       "      <td>Bahla</td>\n",
       "    </tr>\n",
       "    <tr>\n",
       "      <th>14</th>\n",
       "      <td>15.0</td>\n",
       "      <td>United Kingdom</td>\n",
       "      <td>7.0</td>\n",
       "      <td>4.0</td>\n",
       "      <td>20.0</td>\n",
       "      <td>London</td>\n",
       "    </tr>\n",
       "    <tr>\n",
       "      <th>1</th>\n",
       "      <td>2.0</td>\n",
       "      <td>North Pole</td>\n",
       "      <td>8.0</td>\n",
       "      <td>4.0</td>\n",
       "      <td>6.0</td>\n",
       "      <td>Svalbard</td>\n",
       "    </tr>\n",
       "    <tr>\n",
       "      <th>3</th>\n",
       "      <td>4.0</td>\n",
       "      <td>Russia</td>\n",
       "      <td>8.0</td>\n",
       "      <td>5.0</td>\n",
       "      <td>17.0</td>\n",
       "      <td>Yekaterinburg</td>\n",
       "    </tr>\n",
       "    <tr>\n",
       "      <th>5</th>\n",
       "      <td>6.0</td>\n",
       "      <td>China</td>\n",
       "      <td>8.0</td>\n",
       "      <td>3.0</td>\n",
       "      <td>198.0</td>\n",
       "      <td>Xinjiang</td>\n",
       "    </tr>\n",
       "    <tr>\n",
       "      <th>8</th>\n",
       "      <td>9.0</td>\n",
       "      <td>India</td>\n",
       "      <td>8.0</td>\n",
       "      <td>3.0</td>\n",
       "      <td>45.0</td>\n",
       "      <td>Ladakh</td>\n",
       "    </tr>\n",
       "    <tr>\n",
       "      <th>0</th>\n",
       "      <td>1.0</td>\n",
       "      <td>New Zealand</td>\n",
       "      <td>9.0</td>\n",
       "      <td>4.0</td>\n",
       "      <td>5.0</td>\n",
       "      <td>Rotura</td>\n",
       "    </tr>\n",
       "    <tr>\n",
       "      <th>4</th>\n",
       "      <td>5.0</td>\n",
       "      <td>Austria</td>\n",
       "      <td>9.0</td>\n",
       "      <td>4.0</td>\n",
       "      <td>12.0</td>\n",
       "      <td>Hinterbruhl</td>\n",
       "    </tr>\n",
       "    <tr>\n",
       "      <th>6</th>\n",
       "      <td>7.0</td>\n",
       "      <td>Italy</td>\n",
       "      <td>9.0</td>\n",
       "      <td>5.0</td>\n",
       "      <td>76.0</td>\n",
       "      <td>Puglia</td>\n",
       "    </tr>\n",
       "    <tr>\n",
       "      <th>9</th>\n",
       "      <td>10.0</td>\n",
       "      <td>Indonesia</td>\n",
       "      <td>9.0</td>\n",
       "      <td>4.0</td>\n",
       "      <td>80.0</td>\n",
       "      <td>Aceh</td>\n",
       "    </tr>\n",
       "    <tr>\n",
       "      <th>11</th>\n",
       "      <td>12.0</td>\n",
       "      <td>Turkey</td>\n",
       "      <td>9.0</td>\n",
       "      <td>4.0</td>\n",
       "      <td>54.0</td>\n",
       "      <td>Faralya</td>\n",
       "    </tr>\n",
       "    <tr>\n",
       "      <th>12</th>\n",
       "      <td>13.0</td>\n",
       "      <td>Palestine</td>\n",
       "      <td>9.0</td>\n",
       "      <td>3.0</td>\n",
       "      <td>5.0</td>\n",
       "      <td>Jerusalem</td>\n",
       "    </tr>\n",
       "    <tr>\n",
       "      <th>10</th>\n",
       "      <td>11.0</td>\n",
       "      <td>Japan</td>\n",
       "      <td>10.0</td>\n",
       "      <td>5.0</td>\n",
       "      <td>90.0</td>\n",
       "      <td>Beppu</td>\n",
       "    </tr>\n",
       "    <tr>\n",
       "      <th>15</th>\n",
       "      <td>NaN</td>\n",
       "      <td>NaN</td>\n",
       "      <td>NaN</td>\n",
       "      <td>NaN</td>\n",
       "      <td>NaN</td>\n",
       "      <td>NaN</td>\n",
       "    </tr>\n",
       "    <tr>\n",
       "      <th>16</th>\n",
       "      <td>NaN</td>\n",
       "      <td>NaN</td>\n",
       "      <td>NaN</td>\n",
       "      <td>NaN</td>\n",
       "      <td>NaN</td>\n",
       "      <td>NaN</td>\n",
       "    </tr>\n",
       "  </tbody>\n",
       "</table>\n",
       "</div>"
      ],
      "text/plain": [
       "      id     Destination  Feedback  Avg Rating  All in Hotels   Most Popular\n",
       "7    8.0          France       6.0         3.0           24.0         Nantes\n",
       "2    3.0    Turkmenistan       7.0         3.0            9.0        Derweze\n",
       "13  14.0            Oman       7.0         5.0            2.0          Bahla\n",
       "14  15.0  United Kingdom       7.0         4.0           20.0         London\n",
       "1    2.0      North Pole       8.0         4.0            6.0       Svalbard\n",
       "3    4.0          Russia       8.0         5.0           17.0  Yekaterinburg\n",
       "5    6.0           China       8.0         3.0          198.0       Xinjiang\n",
       "8    9.0           India       8.0         3.0           45.0         Ladakh\n",
       "0    1.0     New Zealand       9.0         4.0            5.0         Rotura\n",
       "4    5.0         Austria       9.0         4.0           12.0    Hinterbruhl\n",
       "6    7.0           Italy       9.0         5.0           76.0         Puglia\n",
       "9   10.0       Indonesia       9.0         4.0           80.0           Aceh\n",
       "11  12.0          Turkey       9.0         4.0           54.0        Faralya\n",
       "12  13.0       Palestine       9.0         3.0            5.0      Jerusalem\n",
       "10  11.0           Japan      10.0         5.0           90.0          Beppu\n",
       "15   NaN             NaN       NaN         NaN            NaN            NaN\n",
       "16   NaN             NaN       NaN         NaN            NaN            NaN"
      ]
     },
     "execution_count": 19,
     "metadata": {},
     "output_type": "execute_result"
    }
   ],
   "source": [
    "df.sort_values('Feedback') #sort the table according to the column selected. lowest to highest on default."
   ]
  },
  {
   "cell_type": "code",
   "execution_count": 20,
   "id": "8f466b7f",
   "metadata": {
    "execution": {
     "iopub.execute_input": "2023-03-15T11:42:58.591060Z",
     "iopub.status.busy": "2023-03-15T11:42:58.590179Z",
     "iopub.status.idle": "2023-03-15T11:42:58.609179Z",
     "shell.execute_reply": "2023-03-15T11:42:58.607824Z"
    },
    "papermill": {
     "duration": 0.037094,
     "end_time": "2023-03-15T11:42:58.612745",
     "exception": false,
     "start_time": "2023-03-15T11:42:58.575651",
     "status": "completed"
    },
    "tags": []
   },
   "outputs": [
    {
     "data": {
      "text/html": [
       "<div>\n",
       "<style scoped>\n",
       "    .dataframe tbody tr th:only-of-type {\n",
       "        vertical-align: middle;\n",
       "    }\n",
       "\n",
       "    .dataframe tbody tr th {\n",
       "        vertical-align: top;\n",
       "    }\n",
       "\n",
       "    .dataframe thead th {\n",
       "        text-align: right;\n",
       "    }\n",
       "</style>\n",
       "<table border=\"1\" class=\"dataframe\">\n",
       "  <thead>\n",
       "    <tr style=\"text-align: right;\">\n",
       "      <th></th>\n",
       "      <th>id</th>\n",
       "      <th>Destination</th>\n",
       "      <th>Feedback</th>\n",
       "      <th>Avg Rating</th>\n",
       "      <th>All in Hotels</th>\n",
       "      <th>Most Popular</th>\n",
       "    </tr>\n",
       "  </thead>\n",
       "  <tbody>\n",
       "    <tr>\n",
       "      <th>10</th>\n",
       "      <td>11.0</td>\n",
       "      <td>Japan</td>\n",
       "      <td>10.0</td>\n",
       "      <td>5.0</td>\n",
       "      <td>90.0</td>\n",
       "      <td>Beppu</td>\n",
       "    </tr>\n",
       "    <tr>\n",
       "      <th>0</th>\n",
       "      <td>1.0</td>\n",
       "      <td>New Zealand</td>\n",
       "      <td>9.0</td>\n",
       "      <td>4.0</td>\n",
       "      <td>5.0</td>\n",
       "      <td>Rotura</td>\n",
       "    </tr>\n",
       "    <tr>\n",
       "      <th>4</th>\n",
       "      <td>5.0</td>\n",
       "      <td>Austria</td>\n",
       "      <td>9.0</td>\n",
       "      <td>4.0</td>\n",
       "      <td>12.0</td>\n",
       "      <td>Hinterbruhl</td>\n",
       "    </tr>\n",
       "    <tr>\n",
       "      <th>6</th>\n",
       "      <td>7.0</td>\n",
       "      <td>Italy</td>\n",
       "      <td>9.0</td>\n",
       "      <td>5.0</td>\n",
       "      <td>76.0</td>\n",
       "      <td>Puglia</td>\n",
       "    </tr>\n",
       "    <tr>\n",
       "      <th>9</th>\n",
       "      <td>10.0</td>\n",
       "      <td>Indonesia</td>\n",
       "      <td>9.0</td>\n",
       "      <td>4.0</td>\n",
       "      <td>80.0</td>\n",
       "      <td>Aceh</td>\n",
       "    </tr>\n",
       "  </tbody>\n",
       "</table>\n",
       "</div>"
      ],
      "text/plain": [
       "      id  Destination  Feedback  Avg Rating  All in Hotels Most Popular\n",
       "10  11.0        Japan      10.0         5.0           90.0        Beppu\n",
       "0    1.0  New Zealand       9.0         4.0            5.0       Rotura\n",
       "4    5.0      Austria       9.0         4.0           12.0  Hinterbruhl\n",
       "6    7.0        Italy       9.0         5.0           76.0       Puglia\n",
       "9   10.0    Indonesia       9.0         4.0           80.0         Aceh"
      ]
     },
     "execution_count": 20,
     "metadata": {},
     "output_type": "execute_result"
    }
   ],
   "source": [
    "df.sort_values('Feedback', ascending=False).head() #sort from highest to lowest."
   ]
  },
  {
   "cell_type": "code",
   "execution_count": 21,
   "id": "b110ca97",
   "metadata": {
    "execution": {
     "iopub.execute_input": "2023-03-15T11:42:58.640071Z",
     "iopub.status.busy": "2023-03-15T11:42:58.639260Z",
     "iopub.status.idle": "2023-03-15T11:42:58.667445Z",
     "shell.execute_reply": "2023-03-15T11:42:58.665989Z"
    },
    "papermill": {
     "duration": 0.045264,
     "end_time": "2023-03-15T11:42:58.670449",
     "exception": false,
     "start_time": "2023-03-15T11:42:58.625185",
     "status": "completed"
    },
    "tags": []
   },
   "outputs": [
    {
     "data": {
      "text/html": [
       "<div>\n",
       "<style scoped>\n",
       "    .dataframe tbody tr th:only-of-type {\n",
       "        vertical-align: middle;\n",
       "    }\n",
       "\n",
       "    .dataframe tbody tr th {\n",
       "        vertical-align: top;\n",
       "    }\n",
       "\n",
       "    .dataframe thead th {\n",
       "        text-align: right;\n",
       "    }\n",
       "</style>\n",
       "<table border=\"1\" class=\"dataframe\">\n",
       "  <thead>\n",
       "    <tr style=\"text-align: right;\">\n",
       "      <th></th>\n",
       "      <th>id</th>\n",
       "      <th>Destination</th>\n",
       "      <th>Feedback</th>\n",
       "      <th>Avg Rating</th>\n",
       "      <th>All in Hotels</th>\n",
       "      <th>Most Popular</th>\n",
       "    </tr>\n",
       "  </thead>\n",
       "  <tbody>\n",
       "    <tr>\n",
       "      <th>4</th>\n",
       "      <td>5.0</td>\n",
       "      <td>Austria</td>\n",
       "      <td>9.0</td>\n",
       "      <td>4.0</td>\n",
       "      <td>12.0</td>\n",
       "      <td>Hinterbruhl</td>\n",
       "    </tr>\n",
       "    <tr>\n",
       "      <th>5</th>\n",
       "      <td>6.0</td>\n",
       "      <td>China</td>\n",
       "      <td>8.0</td>\n",
       "      <td>3.0</td>\n",
       "      <td>198.0</td>\n",
       "      <td>Xinjiang</td>\n",
       "    </tr>\n",
       "    <tr>\n",
       "      <th>7</th>\n",
       "      <td>8.0</td>\n",
       "      <td>France</td>\n",
       "      <td>6.0</td>\n",
       "      <td>3.0</td>\n",
       "      <td>24.0</td>\n",
       "      <td>Nantes</td>\n",
       "    </tr>\n",
       "    <tr>\n",
       "      <th>8</th>\n",
       "      <td>9.0</td>\n",
       "      <td>India</td>\n",
       "      <td>8.0</td>\n",
       "      <td>3.0</td>\n",
       "      <td>45.0</td>\n",
       "      <td>Ladakh</td>\n",
       "    </tr>\n",
       "    <tr>\n",
       "      <th>9</th>\n",
       "      <td>10.0</td>\n",
       "      <td>Indonesia</td>\n",
       "      <td>9.0</td>\n",
       "      <td>4.0</td>\n",
       "      <td>80.0</td>\n",
       "      <td>Aceh</td>\n",
       "    </tr>\n",
       "    <tr>\n",
       "      <th>6</th>\n",
       "      <td>7.0</td>\n",
       "      <td>Italy</td>\n",
       "      <td>9.0</td>\n",
       "      <td>5.0</td>\n",
       "      <td>76.0</td>\n",
       "      <td>Puglia</td>\n",
       "    </tr>\n",
       "    <tr>\n",
       "      <th>10</th>\n",
       "      <td>11.0</td>\n",
       "      <td>Japan</td>\n",
       "      <td>10.0</td>\n",
       "      <td>5.0</td>\n",
       "      <td>90.0</td>\n",
       "      <td>Beppu</td>\n",
       "    </tr>\n",
       "    <tr>\n",
       "      <th>0</th>\n",
       "      <td>1.0</td>\n",
       "      <td>New Zealand</td>\n",
       "      <td>9.0</td>\n",
       "      <td>4.0</td>\n",
       "      <td>5.0</td>\n",
       "      <td>Rotura</td>\n",
       "    </tr>\n",
       "    <tr>\n",
       "      <th>1</th>\n",
       "      <td>2.0</td>\n",
       "      <td>North Pole</td>\n",
       "      <td>8.0</td>\n",
       "      <td>4.0</td>\n",
       "      <td>6.0</td>\n",
       "      <td>Svalbard</td>\n",
       "    </tr>\n",
       "    <tr>\n",
       "      <th>13</th>\n",
       "      <td>14.0</td>\n",
       "      <td>Oman</td>\n",
       "      <td>7.0</td>\n",
       "      <td>5.0</td>\n",
       "      <td>2.0</td>\n",
       "      <td>Bahla</td>\n",
       "    </tr>\n",
       "    <tr>\n",
       "      <th>12</th>\n",
       "      <td>13.0</td>\n",
       "      <td>Palestine</td>\n",
       "      <td>9.0</td>\n",
       "      <td>3.0</td>\n",
       "      <td>5.0</td>\n",
       "      <td>Jerusalem</td>\n",
       "    </tr>\n",
       "    <tr>\n",
       "      <th>3</th>\n",
       "      <td>4.0</td>\n",
       "      <td>Russia</td>\n",
       "      <td>8.0</td>\n",
       "      <td>5.0</td>\n",
       "      <td>17.0</td>\n",
       "      <td>Yekaterinburg</td>\n",
       "    </tr>\n",
       "    <tr>\n",
       "      <th>11</th>\n",
       "      <td>12.0</td>\n",
       "      <td>Turkey</td>\n",
       "      <td>9.0</td>\n",
       "      <td>4.0</td>\n",
       "      <td>54.0</td>\n",
       "      <td>Faralya</td>\n",
       "    </tr>\n",
       "    <tr>\n",
       "      <th>2</th>\n",
       "      <td>3.0</td>\n",
       "      <td>Turkmenistan</td>\n",
       "      <td>7.0</td>\n",
       "      <td>3.0</td>\n",
       "      <td>9.0</td>\n",
       "      <td>Derweze</td>\n",
       "    </tr>\n",
       "    <tr>\n",
       "      <th>14</th>\n",
       "      <td>15.0</td>\n",
       "      <td>United Kingdom</td>\n",
       "      <td>7.0</td>\n",
       "      <td>4.0</td>\n",
       "      <td>20.0</td>\n",
       "      <td>London</td>\n",
       "    </tr>\n",
       "    <tr>\n",
       "      <th>15</th>\n",
       "      <td>NaN</td>\n",
       "      <td>NaN</td>\n",
       "      <td>NaN</td>\n",
       "      <td>NaN</td>\n",
       "      <td>NaN</td>\n",
       "      <td>NaN</td>\n",
       "    </tr>\n",
       "    <tr>\n",
       "      <th>16</th>\n",
       "      <td>NaN</td>\n",
       "      <td>NaN</td>\n",
       "      <td>NaN</td>\n",
       "      <td>NaN</td>\n",
       "      <td>NaN</td>\n",
       "      <td>NaN</td>\n",
       "    </tr>\n",
       "  </tbody>\n",
       "</table>\n",
       "</div>"
      ],
      "text/plain": [
       "      id     Destination  Feedback  Avg Rating  All in Hotels   Most Popular\n",
       "4    5.0         Austria       9.0         4.0           12.0    Hinterbruhl\n",
       "5    6.0           China       8.0         3.0          198.0       Xinjiang\n",
       "7    8.0          France       6.0         3.0           24.0         Nantes\n",
       "8    9.0           India       8.0         3.0           45.0         Ladakh\n",
       "9   10.0       Indonesia       9.0         4.0           80.0           Aceh\n",
       "6    7.0           Italy       9.0         5.0           76.0         Puglia\n",
       "10  11.0           Japan      10.0         5.0           90.0          Beppu\n",
       "0    1.0     New Zealand       9.0         4.0            5.0         Rotura\n",
       "1    2.0      North Pole       8.0         4.0            6.0       Svalbard\n",
       "13  14.0            Oman       7.0         5.0            2.0          Bahla\n",
       "12  13.0       Palestine       9.0         3.0            5.0      Jerusalem\n",
       "3    4.0          Russia       8.0         5.0           17.0  Yekaterinburg\n",
       "11  12.0          Turkey       9.0         4.0           54.0        Faralya\n",
       "2    3.0    Turkmenistan       7.0         3.0            9.0        Derweze\n",
       "14  15.0  United Kingdom       7.0         4.0           20.0         London\n",
       "15   NaN             NaN       NaN         NaN            NaN            NaN\n",
       "16   NaN             NaN       NaN         NaN            NaN            NaN"
      ]
     },
     "execution_count": 21,
     "metadata": {},
     "output_type": "execute_result"
    }
   ],
   "source": [
    "df.sort_values(['Destination', 'Avg Rating'], ascending = [True, False])"
   ]
  },
  {
   "cell_type": "code",
   "execution_count": 22,
   "id": "59bda141",
   "metadata": {
    "execution": {
     "iopub.execute_input": "2023-03-15T11:42:58.699189Z",
     "iopub.status.busy": "2023-03-15T11:42:58.698780Z",
     "iopub.status.idle": "2023-03-15T11:42:58.708533Z",
     "shell.execute_reply": "2023-03-15T11:42:58.706829Z"
    },
    "papermill": {
     "duration": 0.027206,
     "end_time": "2023-03-15T11:42:58.711595",
     "exception": false,
     "start_time": "2023-03-15T11:42:58.684389",
     "status": "completed"
    },
    "tags": []
   },
   "outputs": [
    {
     "data": {
      "text/plain": [
       "10.0"
      ]
     },
     "execution_count": 22,
     "metadata": {},
     "output_type": "execute_result"
    }
   ],
   "source": [
    "df['Feedback'].max() #see highest value in th column specified"
   ]
  },
  {
   "cell_type": "code",
   "execution_count": 23,
   "id": "9dbcb5f4",
   "metadata": {
    "execution": {
     "iopub.execute_input": "2023-03-15T11:42:58.741088Z",
     "iopub.status.busy": "2023-03-15T11:42:58.740443Z",
     "iopub.status.idle": "2023-03-15T11:42:58.748143Z",
     "shell.execute_reply": "2023-03-15T11:42:58.746802Z"
    },
    "papermill": {
     "duration": 0.024947,
     "end_time": "2023-03-15T11:42:58.750837",
     "exception": false,
     "start_time": "2023-03-15T11:42:58.725890",
     "status": "completed"
    },
    "tags": []
   },
   "outputs": [
    {
     "data": {
      "text/plain": [
       "5.0"
      ]
     },
     "execution_count": 23,
     "metadata": {},
     "output_type": "execute_result"
    }
   ],
   "source": [
    "df['Avg Rating'].max()"
   ]
  },
  {
   "cell_type": "markdown",
   "id": "c27eb917",
   "metadata": {
    "papermill": {
     "duration": 0.012351,
     "end_time": "2023-03-15T11:42:58.775856",
     "exception": false,
     "start_time": "2023-03-15T11:42:58.763505",
     "status": "completed"
    },
    "tags": []
   },
   "source": [
    "Which destination has more than 4 stars rating?"
   ]
  },
  {
   "cell_type": "code",
   "execution_count": 24,
   "id": "f08a3ee6",
   "metadata": {
    "execution": {
     "iopub.execute_input": "2023-03-15T11:42:58.803197Z",
     "iopub.status.busy": "2023-03-15T11:42:58.802794Z",
     "iopub.status.idle": "2023-03-15T11:42:58.809674Z",
     "shell.execute_reply": "2023-03-15T11:42:58.808305Z"
    },
    "papermill": {
     "duration": 0.024127,
     "end_time": "2023-03-15T11:42:58.812683",
     "exception": false,
     "start_time": "2023-03-15T11:42:58.788556",
     "status": "completed"
    },
    "tags": []
   },
   "outputs": [],
   "source": [
    "df_filter = df[df['Avg Rating'] > 3] #accessing the column which has more than 3 in the record value\n",
    "destinations = df_filter['Destination'] #displaying necessary columns"
   ]
  },
  {
   "cell_type": "code",
   "execution_count": 25,
   "id": "c2daaf11",
   "metadata": {
    "execution": {
     "iopub.execute_input": "2023-03-15T11:42:58.840773Z",
     "iopub.status.busy": "2023-03-15T11:42:58.840279Z",
     "iopub.status.idle": "2023-03-15T11:42:58.849343Z",
     "shell.execute_reply": "2023-03-15T11:42:58.847983Z"
    },
    "papermill": {
     "duration": 0.026483,
     "end_time": "2023-03-15T11:42:58.852110",
     "exception": false,
     "start_time": "2023-03-15T11:42:58.825627",
     "status": "completed"
    },
    "tags": []
   },
   "outputs": [
    {
     "data": {
      "text/plain": [
       "0        New Zealand\n",
       "1         North Pole\n",
       "3             Russia\n",
       "4            Austria\n",
       "6              Italy\n",
       "9          Indonesia\n",
       "10             Japan\n",
       "11            Turkey\n",
       "13              Oman\n",
       "14    United Kingdom\n",
       "Name: Destination, dtype: object"
      ]
     },
     "execution_count": 25,
     "metadata": {},
     "output_type": "execute_result"
    }
   ],
   "source": [
    "destinations"
   ]
  },
  {
   "cell_type": "markdown",
   "id": "ba8f446e",
   "metadata": {
    "papermill": {
     "duration": 0.012868,
     "end_time": "2023-03-15T11:42:58.877531",
     "exception": false,
     "start_time": "2023-03-15T11:42:58.864663",
     "status": "completed"
    },
    "tags": []
   },
   "source": [
    "display destinations with more than seven feedbacks"
   ]
  },
  {
   "cell_type": "code",
   "execution_count": 26,
   "id": "3f5d7047",
   "metadata": {
    "execution": {
     "iopub.execute_input": "2023-03-15T11:42:58.906479Z",
     "iopub.status.busy": "2023-03-15T11:42:58.906001Z",
     "iopub.status.idle": "2023-03-15T11:42:58.913667Z",
     "shell.execute_reply": "2023-03-15T11:42:58.912059Z"
    },
    "papermill": {
     "duration": 0.02614,
     "end_time": "2023-03-15T11:42:58.916614",
     "exception": false,
     "start_time": "2023-03-15T11:42:58.890474",
     "status": "completed"
    },
    "tags": []
   },
   "outputs": [],
   "source": [
    "df_filter = df[df['Feedback'] > 7] #accessing the column which has more than 7 in the record value\n",
    "destinations = df_filter['Destination'] #displaying necessary columns"
   ]
  },
  {
   "cell_type": "code",
   "execution_count": 27,
   "id": "6a7e6fa0",
   "metadata": {
    "execution": {
     "iopub.execute_input": "2023-03-15T11:42:58.944594Z",
     "iopub.status.busy": "2023-03-15T11:42:58.944107Z",
     "iopub.status.idle": "2023-03-15T11:42:58.954403Z",
     "shell.execute_reply": "2023-03-15T11:42:58.952896Z"
    },
    "papermill": {
     "duration": 0.027861,
     "end_time": "2023-03-15T11:42:58.957331",
     "exception": false,
     "start_time": "2023-03-15T11:42:58.929470",
     "status": "completed"
    },
    "tags": []
   },
   "outputs": [
    {
     "data": {
      "text/plain": [
       "0     New Zealand\n",
       "1      North Pole\n",
       "3          Russia\n",
       "4         Austria\n",
       "5           China\n",
       "6           Italy\n",
       "8           India\n",
       "9       Indonesia\n",
       "10          Japan\n",
       "11         Turkey\n",
       "12      Palestine\n",
       "Name: Destination, dtype: object"
      ]
     },
     "execution_count": 27,
     "metadata": {},
     "output_type": "execute_result"
    }
   ],
   "source": [
    "destinations"
   ]
  },
  {
   "cell_type": "code",
   "execution_count": 28,
   "id": "cd989073",
   "metadata": {
    "execution": {
     "iopub.execute_input": "2023-03-15T11:42:58.986274Z",
     "iopub.status.busy": "2023-03-15T11:42:58.985726Z",
     "iopub.status.idle": "2023-03-15T11:42:59.010005Z",
     "shell.execute_reply": "2023-03-15T11:42:59.008261Z"
    },
    "papermill": {
     "duration": 0.042362,
     "end_time": "2023-03-15T11:42:59.013230",
     "exception": false,
     "start_time": "2023-03-15T11:42:58.970868",
     "status": "completed"
    },
    "tags": []
   },
   "outputs": [
    {
     "data": {
      "text/html": [
       "<div>\n",
       "<style scoped>\n",
       "    .dataframe tbody tr th:only-of-type {\n",
       "        vertical-align: middle;\n",
       "    }\n",
       "\n",
       "    .dataframe tbody tr th {\n",
       "        vertical-align: top;\n",
       "    }\n",
       "\n",
       "    .dataframe thead th {\n",
       "        text-align: right;\n",
       "    }\n",
       "</style>\n",
       "<table border=\"1\" class=\"dataframe\">\n",
       "  <thead>\n",
       "    <tr style=\"text-align: right;\">\n",
       "      <th></th>\n",
       "      <th>id</th>\n",
       "      <th>Destination</th>\n",
       "      <th>Feedback</th>\n",
       "      <th>Avg Rating</th>\n",
       "      <th>All in Hotels</th>\n",
       "      <th>Most Popular</th>\n",
       "    </tr>\n",
       "  </thead>\n",
       "  <tbody>\n",
       "    <tr>\n",
       "      <th>0</th>\n",
       "      <td>1.0</td>\n",
       "      <td>New Zealand</td>\n",
       "      <td>9.0</td>\n",
       "      <td>4.0</td>\n",
       "      <td>5.0</td>\n",
       "      <td>Rotura</td>\n",
       "    </tr>\n",
       "    <tr>\n",
       "      <th>1</th>\n",
       "      <td>2.0</td>\n",
       "      <td>North Pole</td>\n",
       "      <td>8.0</td>\n",
       "      <td>4.0</td>\n",
       "      <td>6.0</td>\n",
       "      <td>Svalbard</td>\n",
       "    </tr>\n",
       "    <tr>\n",
       "      <th>2</th>\n",
       "      <td>3.0</td>\n",
       "      <td>Turkmenistan</td>\n",
       "      <td>7.0</td>\n",
       "      <td>3.0</td>\n",
       "      <td>9.0</td>\n",
       "      <td>Derweze</td>\n",
       "    </tr>\n",
       "    <tr>\n",
       "      <th>3</th>\n",
       "      <td>4.0</td>\n",
       "      <td>Russia</td>\n",
       "      <td>8.0</td>\n",
       "      <td>5.0</td>\n",
       "      <td>17.0</td>\n",
       "      <td>Yekaterinburg</td>\n",
       "    </tr>\n",
       "    <tr>\n",
       "      <th>4</th>\n",
       "      <td>5.0</td>\n",
       "      <td>Austria</td>\n",
       "      <td>9.0</td>\n",
       "      <td>4.0</td>\n",
       "      <td>12.0</td>\n",
       "      <td>Hinterbruhl</td>\n",
       "    </tr>\n",
       "    <tr>\n",
       "      <th>5</th>\n",
       "      <td>6.0</td>\n",
       "      <td>China</td>\n",
       "      <td>8.0</td>\n",
       "      <td>3.0</td>\n",
       "      <td>198.0</td>\n",
       "      <td>Xinjiang</td>\n",
       "    </tr>\n",
       "    <tr>\n",
       "      <th>6</th>\n",
       "      <td>7.0</td>\n",
       "      <td>Italy</td>\n",
       "      <td>9.0</td>\n",
       "      <td>5.0</td>\n",
       "      <td>76.0</td>\n",
       "      <td>Puglia</td>\n",
       "    </tr>\n",
       "    <tr>\n",
       "      <th>7</th>\n",
       "      <td>8.0</td>\n",
       "      <td>France</td>\n",
       "      <td>6.0</td>\n",
       "      <td>3.0</td>\n",
       "      <td>24.0</td>\n",
       "      <td>Nantes</td>\n",
       "    </tr>\n",
       "    <tr>\n",
       "      <th>8</th>\n",
       "      <td>9.0</td>\n",
       "      <td>India</td>\n",
       "      <td>8.0</td>\n",
       "      <td>3.0</td>\n",
       "      <td>45.0</td>\n",
       "      <td>Ladakh</td>\n",
       "    </tr>\n",
       "    <tr>\n",
       "      <th>9</th>\n",
       "      <td>10.0</td>\n",
       "      <td>Indonesia</td>\n",
       "      <td>9.0</td>\n",
       "      <td>4.0</td>\n",
       "      <td>80.0</td>\n",
       "      <td>Aceh</td>\n",
       "    </tr>\n",
       "    <tr>\n",
       "      <th>10</th>\n",
       "      <td>11.0</td>\n",
       "      <td>Japan</td>\n",
       "      <td>10.0</td>\n",
       "      <td>5.0</td>\n",
       "      <td>90.0</td>\n",
       "      <td>Beppu</td>\n",
       "    </tr>\n",
       "    <tr>\n",
       "      <th>11</th>\n",
       "      <td>12.0</td>\n",
       "      <td>Turkey</td>\n",
       "      <td>9.0</td>\n",
       "      <td>4.0</td>\n",
       "      <td>54.0</td>\n",
       "      <td>Faralya</td>\n",
       "    </tr>\n",
       "    <tr>\n",
       "      <th>12</th>\n",
       "      <td>13.0</td>\n",
       "      <td>Palestine</td>\n",
       "      <td>9.0</td>\n",
       "      <td>3.0</td>\n",
       "      <td>5.0</td>\n",
       "      <td>Jerusalem</td>\n",
       "    </tr>\n",
       "    <tr>\n",
       "      <th>13</th>\n",
       "      <td>14.0</td>\n",
       "      <td>Oman</td>\n",
       "      <td>7.0</td>\n",
       "      <td>5.0</td>\n",
       "      <td>2.0</td>\n",
       "      <td>Bahla</td>\n",
       "    </tr>\n",
       "    <tr>\n",
       "      <th>14</th>\n",
       "      <td>15.0</td>\n",
       "      <td>United Kingdom</td>\n",
       "      <td>7.0</td>\n",
       "      <td>4.0</td>\n",
       "      <td>20.0</td>\n",
       "      <td>London</td>\n",
       "    </tr>\n",
       "    <tr>\n",
       "      <th>15</th>\n",
       "      <td>NaN</td>\n",
       "      <td>NaN</td>\n",
       "      <td>NaN</td>\n",
       "      <td>NaN</td>\n",
       "      <td>NaN</td>\n",
       "      <td>NaN</td>\n",
       "    </tr>\n",
       "    <tr>\n",
       "      <th>16</th>\n",
       "      <td>NaN</td>\n",
       "      <td>NaN</td>\n",
       "      <td>NaN</td>\n",
       "      <td>NaN</td>\n",
       "      <td>NaN</td>\n",
       "      <td>NaN</td>\n",
       "    </tr>\n",
       "  </tbody>\n",
       "</table>\n",
       "</div>"
      ],
      "text/plain": [
       "      id     Destination  Feedback  Avg Rating  All in Hotels   Most Popular\n",
       "0    1.0     New Zealand       9.0         4.0            5.0         Rotura\n",
       "1    2.0      North Pole       8.0         4.0            6.0       Svalbard\n",
       "2    3.0    Turkmenistan       7.0         3.0            9.0        Derweze\n",
       "3    4.0          Russia       8.0         5.0           17.0  Yekaterinburg\n",
       "4    5.0         Austria       9.0         4.0           12.0    Hinterbruhl\n",
       "5    6.0           China       8.0         3.0          198.0       Xinjiang\n",
       "6    7.0           Italy       9.0         5.0           76.0         Puglia\n",
       "7    8.0          France       6.0         3.0           24.0         Nantes\n",
       "8    9.0           India       8.0         3.0           45.0         Ladakh\n",
       "9   10.0       Indonesia       9.0         4.0           80.0           Aceh\n",
       "10  11.0           Japan      10.0         5.0           90.0          Beppu\n",
       "11  12.0          Turkey       9.0         4.0           54.0        Faralya\n",
       "12  13.0       Palestine       9.0         3.0            5.0      Jerusalem\n",
       "13  14.0            Oman       7.0         5.0            2.0          Bahla\n",
       "14  15.0  United Kingdom       7.0         4.0           20.0         London\n",
       "15   NaN             NaN       NaN         NaN            NaN            NaN\n",
       "16   NaN             NaN       NaN         NaN            NaN            NaN"
      ]
     },
     "execution_count": 28,
     "metadata": {},
     "output_type": "execute_result"
    }
   ],
   "source": [
    "df"
   ]
  }
 ],
 "metadata": {
  "kernelspec": {
   "display_name": "Python 3",
   "language": "python",
   "name": "python3"
  },
  "language_info": {
   "codemirror_mode": {
    "name": "ipython",
    "version": 3
   },
   "file_extension": ".py",
   "mimetype": "text/x-python",
   "name": "python",
   "nbconvert_exporter": "python",
   "pygments_lexer": "ipython3",
   "version": "3.7.12"
  },
  "papermill": {
   "default_parameters": {},
   "duration": 12.571632,
   "end_time": "2023-03-15T11:42:59.653477",
   "environment_variables": {},
   "exception": null,
   "input_path": "__notebook__.ipynb",
   "output_path": "__notebook__.ipynb",
   "parameters": {},
   "start_time": "2023-03-15T11:42:47.081845",
   "version": "2.4.0"
  }
 },
 "nbformat": 4,
 "nbformat_minor": 5
}
